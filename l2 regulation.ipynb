{
 "cells": [
  {
   "cell_type": "code",
   "execution_count": 1,
   "metadata": {},
   "outputs": [],
   "source": [
    "import numpy as np\n",
    "import matplotlib.pyplot as plt"
   ]
  },
  {
   "cell_type": "code",
   "execution_count": 2,
   "metadata": {},
   "outputs": [],
   "source": [
    "N=50\n",
    "X=np.linspace(0,10,N)\n",
    "Y=0.5*X+np.random.rand(N)\n"
   ]
  },
  {
   "cell_type": "code",
   "execution_count": 3,
   "metadata": {},
   "outputs": [
    {
     "name": "stdout",
     "output_type": "stream",
     "text": [
      "[ 0.          0.20408163  0.40816327  0.6122449   0.81632653  1.02040816\n",
      "  1.2244898   1.42857143  1.63265306  1.83673469  2.04081633  2.24489796\n",
      "  2.44897959  2.65306122  2.85714286  3.06122449  3.26530612  3.46938776\n",
      "  3.67346939  3.87755102  4.08163265  4.28571429  4.48979592  4.69387755\n",
      "  4.89795918  5.10204082  5.30612245  5.51020408  5.71428571  5.91836735\n",
      "  6.12244898  6.32653061  6.53061224  6.73469388  6.93877551  7.14285714\n",
      "  7.34693878  7.55102041  7.75510204  7.95918367  8.16326531  8.36734694\n",
      "  8.57142857  8.7755102   8.97959184  9.18367347  9.3877551   9.59183673\n",
      "  9.79591837 10.        ]\n"
     ]
    }
   ],
   "source": [
    "print(X)"
   ]
  },
  {
   "cell_type": "code",
   "execution_count": 4,
   "metadata": {},
   "outputs": [
    {
     "data": {
      "text/plain": [
       "array([0.        , 0.10204082, 0.20408163, 0.30612245, 0.40816327,\n",
       "       0.51020408, 0.6122449 , 0.71428571, 0.81632653, 0.91836735,\n",
       "       1.02040816, 1.12244898, 1.2244898 , 1.32653061, 1.42857143,\n",
       "       1.53061224, 1.63265306, 1.73469388, 1.83673469, 1.93877551,\n",
       "       2.04081633, 2.14285714, 2.24489796, 2.34693878, 2.44897959,\n",
       "       2.55102041, 2.65306122, 2.75510204, 2.85714286, 2.95918367,\n",
       "       3.06122449, 3.16326531, 3.26530612, 3.36734694, 3.46938776,\n",
       "       3.57142857, 3.67346939, 3.7755102 , 3.87755102, 3.97959184,\n",
       "       4.08163265, 4.18367347, 4.28571429, 4.3877551 , 4.48979592,\n",
       "       4.59183673, 4.69387755, 4.79591837, 4.89795918, 5.        ])"
      ]
     },
     "execution_count": 4,
     "metadata": {},
     "output_type": "execute_result"
    }
   ],
   "source": [
    "0.5*X"
   ]
  },
  {
   "cell_type": "code",
   "execution_count": 5,
   "metadata": {},
   "outputs": [
    {
     "data": {
      "text/plain": [
       "array([ 0.15126377,  0.01455337, -0.92263341, -2.06758192, -2.74743959,\n",
       "       -1.22972444, -2.13670672, -0.70621861,  0.4727218 , -1.04369048,\n",
       "        0.32089328,  0.17107824, -0.59422568, -0.02443212,  1.45926716,\n",
       "        0.67928159, -0.43783232, -0.72757345,  0.70662708, -0.44584417,\n",
       "       -1.57903239, -1.64489596,  1.03241643, -0.946328  , -1.33727039,\n",
       "        0.49435177,  0.29223995, -0.9461989 , -0.72422835,  0.47350851,\n",
       "        1.2389673 ,  1.21126914, -0.52423262,  0.82715854,  2.02822435,\n",
       "       -0.15715977, -1.08726239, -0.84432612, -1.74879596, -0.98437326,\n",
       "        0.66393946,  1.36637421,  0.44993462, -0.96355594,  1.33577384,\n",
       "        1.66692784,  2.02798551,  0.63859076, -0.50682985, -0.61227763])"
      ]
     },
     "execution_count": 5,
     "metadata": {},
     "output_type": "execute_result"
    }
   ],
   "source": [
    "np.random.randn(N)"
   ]
  },
  {
   "cell_type": "code",
   "execution_count": 6,
   "metadata": {},
   "outputs": [
    {
     "name": "stdout",
     "output_type": "stream",
     "text": [
      "[0.52242941 0.35214257 0.60980696 0.48488018 0.43228684 1.4467093\n",
      " 1.58111572 1.26060988 1.79816561 1.46942579 1.13883562 1.53447651\n",
      " 1.68087893 1.83735375 1.80028263 2.23347184 1.65811862 2.18376506\n",
      " 1.91845683 2.8365652  2.17363799 2.49831438 2.40514734 2.71026077\n",
      " 3.25090818 2.89542842 2.96041364 3.72763337 3.61861872 3.62959908\n",
      " 3.79400003 3.60696372 3.83633054 3.64417348 3.48153219 4.05850203\n",
      " 4.3309892  4.59142915 4.51814531 4.85045756 4.74230874 4.76972554\n",
      " 5.15631625 5.05058039 5.09446442 4.95942559 4.91989019 5.71482455\n",
      " 5.00139582 5.83914067]\n"
     ]
    }
   ],
   "source": [
    "print(Y)"
   ]
  },
  {
   "cell_type": "code",
   "execution_count": 7,
   "metadata": {},
   "outputs": [
    {
     "data": {
      "image/png": "[encoded data removed]",
      "text/plain": [
       "<Figure size 432x288 with 1 Axes>"
      ]
     },
     "metadata": {
      "needs_background": "light"
     },
     "output_type": "display_data"
    }
   ],
   "source": [
    "#Before applying outlier\n",
    "plt.scatter(X,Y)\n",
    "plt.show()"
   ]
  },
  {
   "cell_type": "code",
   "execution_count": 8,
   "metadata": {},
   "outputs": [],
   "source": [
    "#Creating outlier\n",
    "Y[-1]+=30\n",
    "Y[-2]+=30"
   ]
  },
  {
   "cell_type": "code",
   "execution_count": 9,
   "metadata": {},
   "outputs": [
    {
     "name": "stdout",
     "output_type": "stream",
     "text": [
      "35.83914067043721 35.001395818857254\n"
     ]
    }
   ],
   "source": [
    "print(Y[-1],Y[-2])"
   ]
  },
  {
   "cell_type": "code",
   "execution_count": 10,
   "metadata": {},
   "outputs": [
    {
     "name": "stdout",
     "output_type": "stream",
     "text": [
      "[ 0.52242941  0.35214257  0.60980696  0.48488018  0.43228684  1.4467093\n",
      "  1.58111572  1.26060988  1.79816561  1.46942579  1.13883562  1.53447651\n",
      "  1.68087893  1.83735375  1.80028263  2.23347184  1.65811862  2.18376506\n",
      "  1.91845683  2.8365652   2.17363799  2.49831438  2.40514734  2.71026077\n",
      "  3.25090818  2.89542842  2.96041364  3.72763337  3.61861872  3.62959908\n",
      "  3.79400003  3.60696372  3.83633054  3.64417348  3.48153219  4.05850203\n",
      "  4.3309892   4.59142915  4.51814531  4.85045756  4.74230874  4.76972554\n",
      "  5.15631625  5.05058039  5.09446442  4.95942559  4.91989019  5.71482455\n",
      " 35.00139582 35.83914067]\n"
     ]
    }
   ],
   "source": [
    "print(Y)"
   ]
  },
  {
   "cell_type": "code",
   "execution_count": 11,
   "metadata": {},
   "outputs": [
    {
     "data": {
      "image/png": "[encoded data removed]",
      "text/plain": [
       "<Figure size 432x288 with 1 Axes>"
      ]
     },
     "metadata": {
      "needs_background": "light"
     },
     "output_type": "display_data"
    }
   ],
   "source": [
    "#After applying outlier\n",
    "plt.scatter(X,Y)\n",
    "plt.show()"
   ]
  },
  {
   "cell_type": "code",
   "execution_count": 12,
   "metadata": {},
   "outputs": [
    {
     "name": "stdout",
     "output_type": "stream",
     "text": [
      "[[ 1.          0.        ]\n",
      " [ 1.          0.20408163]\n",
      " [ 1.          0.40816327]\n",
      " [ 1.          0.6122449 ]\n",
      " [ 1.          0.81632653]\n",
      " [ 1.          1.02040816]\n",
      " [ 1.          1.2244898 ]\n",
      " [ 1.          1.42857143]\n",
      " [ 1.          1.63265306]\n",
      " [ 1.          1.83673469]\n",
      " [ 1.          2.04081633]\n",
      " [ 1.          2.24489796]\n",
      " [ 1.          2.44897959]\n",
      " [ 1.          2.65306122]\n",
      " [ 1.          2.85714286]\n",
      " [ 1.          3.06122449]\n",
      " [ 1.          3.26530612]\n",
      " [ 1.          3.46938776]\n",
      " [ 1.          3.67346939]\n",
      " [ 1.          3.87755102]\n",
      " [ 1.          4.08163265]\n",
      " [ 1.          4.28571429]\n",
      " [ 1.          4.48979592]\n",
      " [ 1.          4.69387755]\n",
      " [ 1.          4.89795918]\n",
      " [ 1.          5.10204082]\n",
      " [ 1.          5.30612245]\n",
      " [ 1.          5.51020408]\n",
      " [ 1.          5.71428571]\n",
      " [ 1.          5.91836735]\n",
      " [ 1.          6.12244898]\n",
      " [ 1.          6.32653061]\n",
      " [ 1.          6.53061224]\n",
      " [ 1.          6.73469388]\n",
      " [ 1.          6.93877551]\n",
      " [ 1.          7.14285714]\n",
      " [ 1.          7.34693878]\n",
      " [ 1.          7.55102041]\n",
      " [ 1.          7.75510204]\n",
      " [ 1.          7.95918367]\n",
      " [ 1.          8.16326531]\n",
      " [ 1.          8.36734694]\n",
      " [ 1.          8.57142857]\n",
      " [ 1.          8.7755102 ]\n",
      " [ 1.          8.97959184]\n",
      " [ 1.          9.18367347]\n",
      " [ 1.          9.3877551 ]\n",
      " [ 1.          9.59183673]\n",
      " [ 1.          9.79591837]\n",
      " [ 1.         10.        ]]\n"
     ]
    }
   ],
   "source": [
    "#Adding bias term to input data\n",
    "X=np.vstack([np.ones(N),X]).T\n",
    "print(X)\n"
   ]
  },
  {
   "cell_type": "code",
   "execution_count": 13,
   "metadata": {},
   "outputs": [
    {
     "name": "stdout",
     "output_type": "stream",
     "text": [
      "[-1.76428399  1.19529814]\n"
     ]
    }
   ],
   "source": [
    "#find the weights\n",
    "w_ml=np.linalg.solve(X.T.dot(X), X.T.dot(Y))\n",
    "print(w_ml)\n",
    "\n",
    "\n",
    "#Predivtion of values\n",
    "Yhat_ml=X.dot(w_ml)"
   ]
  },
  {
   "cell_type": "code",
   "execution_count": 15,
   "metadata": {},
   "outputs": [
    {
     "name": "stdout",
     "output_type": "stream",
     "text": [
      "[-1.76428399 -1.52034559 -1.2764072  -1.0324688  -0.78853041 -0.54459201\n",
      " -0.30065362 -0.05671522  0.18722317  0.43116157  0.67509996  0.91903836\n",
      "  1.16297675  1.40691515  1.65085354  1.89479194  2.13873033  2.38266873\n",
      "  2.62660712  2.87054552  3.11448391  3.35842231  3.6023607   3.8462991\n",
      "  4.09023749  4.33417589  4.57811428  4.82205268  5.06599107  5.30992947\n",
      "  5.55386786  5.79780626  6.04174465  6.28568305  6.52962144  6.77355984\n",
      "  7.01749823  7.26143663  7.50537502  7.74931342  7.99325181  8.23719021\n",
      "  8.4811286   8.725067    8.96900539  9.21294379  9.45688218  9.70082058\n",
      "  9.94475897 10.18869737]\n"
     ]
    }
   ],
   "source": [
    "print(Yhat_ml)"
   ]
  },
  {
   "cell_type": "code",
   "execution_count": 18,
   "metadata": {},
   "outputs": [
    {
     "data": {
      "image/png": "[encoded data removed]",
      "text/plain": [
       "<Figure size 432x288 with 1 Axes>"
      ]
     },
     "metadata": {
      "needs_background": "light"
     },
     "output_type": "display_data"
    }
   ],
   "source": [
    "#Maxlikelihood plot\n",
    "plt.scatter(X[:,1],Y)\n",
    "plt.scatter(X[:,1],Yhat_ml)\n",
    "plt.show()"
   ]
  },
  {
   "cell_type": "code",
   "execution_count": 19,
   "metadata": {},
   "outputs": [],
   "source": [
    "l2=1000.0\n"
   ]
  },
  {
   "cell_type": "code",
   "execution_count": 20,
   "metadata": {},
   "outputs": [
    {
     "name": "stdout",
     "output_type": "stream",
     "text": [
      "[[1000.    0.]\n",
      " [   0. 1000.]]\n"
     ]
    }
   ],
   "source": [
    "print(l2*np.eye(2))"
   ]
  },
  {
   "cell_type": "code",
   "execution_count": 21,
   "metadata": {},
   "outputs": [
    {
     "name": "stdout",
     "output_type": "stream",
     "text": [
      "[[  50.          250.        ]\n",
      " [ 250.         1683.67346939]]\n"
     ]
    }
   ],
   "source": [
    "print(np.dot(X.T,X))"
   ]
  },
  {
   "cell_type": "code",
   "execution_count": 22,
   "metadata": {},
   "outputs": [
    {
     "name": "stdout",
     "output_type": "stream",
     "text": [
      "[ 210.6103345  1571.42076177]\n"
     ]
    }
   ],
   "source": [
    "print(np.dot(X.T, Y))"
   ]
  },
  {
   "cell_type": "code",
   "execution_count": 23,
   "metadata": {},
   "outputs": [
    {
     "name": "stdout",
     "output_type": "stream",
     "text": [
      "[0.06255239 0.5797213 ]\n"
     ]
    }
   ],
   "source": [
    "#find the weights of maxposterior values\n",
    "w_map=np.linalg.solve(l2*np.eye(2)+X.T.dot(X),X.T.dot(Y))\n",
    "print(w_map)\n",
    "\n",
    "#predict the posterior values\n",
    "Yhat_map=X.dot(w_map)"
   ]
  },
  {
   "cell_type": "code",
   "execution_count": 24,
   "metadata": {},
   "outputs": [
    {
     "name": "stdout",
     "output_type": "stream",
     "text": [
      "[0.06255239 0.18086286 0.29917333 0.4174838  0.53579427 0.65410473\n",
      " 0.7724152  0.89072567 1.00903614 1.12734661 1.24565708 1.36396755\n",
      " 1.48227802 1.60058848 1.71889895 1.83720942 1.95551989 2.07383036\n",
      " 2.19214083 2.3104513  2.42876177 2.54707223 2.6653827  2.78369317\n",
      " 2.90200364 3.02031411 3.13862458 3.25693505 3.37524552 3.49355598\n",
      " 3.61186645 3.73017692 3.84848739 3.96679786 4.08510833 4.2034188\n",
      " 4.32172927 4.44003973 4.5583502  4.67666067 4.79497114 4.91328161\n",
      " 5.03159208 5.14990255 5.26821302 5.38652348 5.50483395 5.62314442\n",
      " 5.74145489 5.85976536]\n"
     ]
    }
   ],
   "source": [
    "print(Yhat_map)"
   ]
  },
  {
   "cell_type": "code",
   "execution_count": 25,
   "metadata": {},
   "outputs": [
    {
     "data": {
      "image/png": "[encoded data removed]",
      "text/plain": [
       "<Figure size 432x288 with 1 Axes>"
      ]
     },
     "metadata": {
      "needs_background": "light"
     },
     "output_type": "display_data"
    }
   ],
   "source": [
    "plt.scatter(X[:,1],Y)\n",
    "plt.plot(X[:,1],Yhat_ml,label='Maximum likelihood')\n",
    "plt.plot(X[:,1],Yhat_map,label='map')\n",
    "plt.legend()\n",
    "plt.show()"
   ]
  },
  {
   "cell_type": "code",
   "execution_count": null,
   "metadata": {},
   "outputs": [],
   "source": []
  }
 ],
 "metadata": {
  "kernelspec": {
   "display_name": "Python 3",
   "language": "python",
   "name": "python3"
  },
  "language_info": {
   "codemirror_mode": {
    "name": "ipython",
    "version": 3
   },
   "file_extension": ".py",
   "mimetype": "text/x-python",
   "name": "python",
   "nbconvert_exporter": "python",
   "pygments_lexer": "ipython3",
   "version": "3.7.4"
  }
 },
 "nbformat": 4,
 "nbformat_minor": 2
}
