{
 "cells": [
  {
   "cell_type": "code",
   "execution_count": 1,
   "metadata": {},
   "outputs": [],
   "source": [
    "import numpy as np\n",
    "import matplotlib.pyplot as plt"
   ]
  },
  {
   "cell_type": "code",
   "execution_count": 2,
   "metadata": {},
   "outputs": [],
   "source": [
    "N = 100\n",
    "D = 2"
   ]
  },
  {
   "cell_type": "code",
   "execution_count": 4,
   "metadata": {},
   "outputs": [],
   "source": [
    "X = np.random.rand(N,D)"
   ]
  },
  {
   "cell_type": "code",
   "execution_count": 5,
   "metadata": {},
   "outputs": [
    {
     "data": {
      "text/plain": [
       "array([[0.93325043, 0.44684108],\n",
       "       [0.50031193, 0.13884895],\n",
       "       [0.96378358, 0.359966  ],\n",
       "       [0.51643567, 0.49266484],\n",
       "       [0.37766374, 0.40617008],\n",
       "       [0.31708853, 0.16061292],\n",
       "       [0.32668363, 0.13536093],\n",
       "       [0.17900365, 0.64667224],\n",
       "       [0.64316488, 0.52581303],\n",
       "       [0.98949018, 0.65514137],\n",
       "       [0.03633624, 0.49343558],\n",
       "       [0.59691278, 0.05639253],\n",
       "       [0.78329924, 0.75461329],\n",
       "       [0.64918116, 0.56308057],\n",
       "       [0.80483618, 0.58115844],\n",
       "       [0.11866209, 0.84395966],\n",
       "       [0.85115902, 0.47625097],\n",
       "       [0.88311725, 0.47916454],\n",
       "       [0.18847193, 0.82072797],\n",
       "       [0.01568718, 0.20781727],\n",
       "       [0.26417902, 0.34395804],\n",
       "       [0.73037723, 0.52423139],\n",
       "       [0.83177441, 0.16254869],\n",
       "       [0.00273828, 0.38470433],\n",
       "       [0.55513153, 0.99210884],\n",
       "       [0.93625178, 0.9851035 ],\n",
       "       [0.05138164, 0.88326775],\n",
       "       [0.24765706, 0.00322936],\n",
       "       [0.86883527, 0.14337221],\n",
       "       [0.42221204, 0.59614268],\n",
       "       [0.54209321, 0.69574719],\n",
       "       [0.13449054, 0.58229913],\n",
       "       [0.12372714, 0.27559878],\n",
       "       [0.16356108, 0.51867667],\n",
       "       [0.26494753, 0.51483198],\n",
       "       [0.54623638, 0.48399663],\n",
       "       [0.61770148, 0.19229478],\n",
       "       [0.30962085, 0.61824725],\n",
       "       [0.03326919, 0.3032236 ],\n",
       "       [0.35057795, 0.2046402 ],\n",
       "       [0.80518743, 0.20266407],\n",
       "       [0.96139021, 0.7580736 ],\n",
       "       [0.55475934, 0.02250679],\n",
       "       [0.83524275, 0.91749146],\n",
       "       [0.41557371, 0.91371416],\n",
       "       [0.49907811, 0.16237053],\n",
       "       [0.78175273, 0.4452651 ],\n",
       "       [0.19907407, 0.04728014],\n",
       "       [0.96740623, 0.52334211],\n",
       "       [0.90622381, 0.54437737]])"
      ]
     },
     "execution_count": 5,
     "metadata": {},
     "output_type": "execute_result"
    }
   ],
   "source": [
    "X[:50, :]"
   ]
  },
  {
   "cell_type": "code",
   "execution_count": 6,
   "metadata": {},
   "outputs": [
    {
     "data": {
      "text/plain": [
       "array([[2., 2.],\n",
       "       [2., 2.],\n",
       "       [2., 2.],\n",
       "       [2., 2.],\n",
       "       [2., 2.],\n",
       "       [2., 2.],\n",
       "       [2., 2.],\n",
       "       [2., 2.],\n",
       "       [2., 2.],\n",
       "       [2., 2.],\n",
       "       [2., 2.],\n",
       "       [2., 2.],\n",
       "       [2., 2.],\n",
       "       [2., 2.],\n",
       "       [2., 2.],\n",
       "       [2., 2.],\n",
       "       [2., 2.],\n",
       "       [2., 2.],\n",
       "       [2., 2.],\n",
       "       [2., 2.],\n",
       "       [2., 2.],\n",
       "       [2., 2.],\n",
       "       [2., 2.],\n",
       "       [2., 2.],\n",
       "       [2., 2.],\n",
       "       [2., 2.],\n",
       "       [2., 2.],\n",
       "       [2., 2.],\n",
       "       [2., 2.],\n",
       "       [2., 2.],\n",
       "       [2., 2.],\n",
       "       [2., 2.],\n",
       "       [2., 2.],\n",
       "       [2., 2.],\n",
       "       [2., 2.],\n",
       "       [2., 2.],\n",
       "       [2., 2.],\n",
       "       [2., 2.],\n",
       "       [2., 2.],\n",
       "       [2., 2.],\n",
       "       [2., 2.],\n",
       "       [2., 2.],\n",
       "       [2., 2.],\n",
       "       [2., 2.],\n",
       "       [2., 2.],\n",
       "       [2., 2.],\n",
       "       [2., 2.],\n",
       "       [2., 2.],\n",
       "       [2., 2.],\n",
       "       [2., 2.]])"
      ]
     },
     "execution_count": 6,
     "metadata": {},
     "output_type": "execute_result"
    }
   ],
   "source": [
    "2*np.ones((50, D))"
   ]
  },
  {
   "cell_type": "code",
   "execution_count": 7,
   "metadata": {},
   "outputs": [
    {
     "data": {
      "text/plain": [
       "array([[-1.06674957, -1.55315892],\n",
       "       [-1.49968807, -1.86115105],\n",
       "       [-1.03621642, -1.640034  ],\n",
       "       [-1.48356433, -1.50733516],\n",
       "       [-1.62233626, -1.59382992],\n",
       "       [-1.68291147, -1.83938708],\n",
       "       [-1.67331637, -1.86463907],\n",
       "       [-1.82099635, -1.35332776],\n",
       "       [-1.35683512, -1.47418697],\n",
       "       [-1.01050982, -1.34485863],\n",
       "       [-1.96366376, -1.50656442],\n",
       "       [-1.40308722, -1.94360747],\n",
       "       [-1.21670076, -1.24538671],\n",
       "       [-1.35081884, -1.43691943],\n",
       "       [-1.19516382, -1.41884156],\n",
       "       [-1.88133791, -1.15604034],\n",
       "       [-1.14884098, -1.52374903],\n",
       "       [-1.11688275, -1.52083546],\n",
       "       [-1.81152807, -1.17927203],\n",
       "       [-1.98431282, -1.79218273],\n",
       "       [-1.73582098, -1.65604196],\n",
       "       [-1.26962277, -1.47576861],\n",
       "       [-1.16822559, -1.83745131],\n",
       "       [-1.99726172, -1.61529567],\n",
       "       [-1.44486847, -1.00789116],\n",
       "       [-1.06374822, -1.0148965 ],\n",
       "       [-1.94861836, -1.11673225],\n",
       "       [-1.75234294, -1.99677064],\n",
       "       [-1.13116473, -1.85662779],\n",
       "       [-1.57778796, -1.40385732],\n",
       "       [-1.45790679, -1.30425281],\n",
       "       [-1.86550946, -1.41770087],\n",
       "       [-1.87627286, -1.72440122],\n",
       "       [-1.83643892, -1.48132333],\n",
       "       [-1.73505247, -1.48516802],\n",
       "       [-1.45376362, -1.51600337],\n",
       "       [-1.38229852, -1.80770522],\n",
       "       [-1.69037915, -1.38175275],\n",
       "       [-1.96673081, -1.6967764 ],\n",
       "       [-1.64942205, -1.7953598 ],\n",
       "       [-1.19481257, -1.79733593],\n",
       "       [-1.03860979, -1.2419264 ],\n",
       "       [-1.44524066, -1.97749321],\n",
       "       [-1.16475725, -1.08250854],\n",
       "       [-1.58442629, -1.08628584],\n",
       "       [-1.50092189, -1.83762947],\n",
       "       [-1.21824727, -1.5547349 ],\n",
       "       [-1.80092593, -1.95271986],\n",
       "       [-1.03259377, -1.47665789],\n",
       "       [-1.09377619, -1.45562263]])"
      ]
     },
     "execution_count": 7,
     "metadata": {},
     "output_type": "execute_result"
    }
   ],
   "source": [
    "#first 50 points at(-2,-2)\n",
    "X[:50, :] = X[:50, :] - 2*np.ones((50, D))\n",
    "X[:50, :]"
   ]
  },
  {
   "cell_type": "code",
   "execution_count": 9,
   "metadata": {},
   "outputs": [
    {
     "data": {
      "text/plain": [
       "array([[0.37307447, 0.53551623],\n",
       "       [0.21993358, 0.10227221],\n",
       "       [0.237905  , 0.4541178 ],\n",
       "       [0.24868509, 0.16613813],\n",
       "       [0.46619508, 0.26704856],\n",
       "       [0.02394244, 0.31220716],\n",
       "       [0.73427324, 0.51217139],\n",
       "       [0.78649739, 0.46132267],\n",
       "       [0.46608646, 0.33990404],\n",
       "       [0.76718365, 0.18031584],\n",
       "       [0.82804672, 0.91084019],\n",
       "       [0.41393043, 0.99373524],\n",
       "       [0.2925712 , 0.1412828 ],\n",
       "       [0.01244515, 0.38917969],\n",
       "       [0.48183237, 0.24697534],\n",
       "       [0.34225303, 0.90206462],\n",
       "       [0.84440513, 0.19790691],\n",
       "       [0.19864531, 0.11969763],\n",
       "       [0.25253391, 0.86041624],\n",
       "       [0.86341466, 0.66495178],\n",
       "       [0.30893578, 0.3684812 ],\n",
       "       [0.08790611, 0.56512386],\n",
       "       [0.72256386, 0.32313246],\n",
       "       [0.35502054, 0.28762425],\n",
       "       [0.39470538, 0.22118655],\n",
       "       [0.04628346, 0.65557881],\n",
       "       [0.42015623, 0.55082918],\n",
       "       [0.24000807, 0.65055092],\n",
       "       [0.47184068, 0.71536943],\n",
       "       [0.46795512, 0.24592206],\n",
       "       [0.33984795, 0.94167506],\n",
       "       [0.87210545, 0.53577316],\n",
       "       [0.1461141 , 0.55288421],\n",
       "       [0.47891191, 0.78885481],\n",
       "       [0.47125182, 0.17801005],\n",
       "       [0.92030424, 0.08327211],\n",
       "       [0.47493056, 0.3515401 ],\n",
       "       [0.60047166, 0.94254467],\n",
       "       [0.55274632, 0.19448245],\n",
       "       [0.50233952, 0.53200983],\n",
       "       [0.41232343, 0.88620546],\n",
       "       [0.28830281, 0.41450079],\n",
       "       [0.50827327, 0.82149149],\n",
       "       [0.25460656, 0.47900265],\n",
       "       [0.61499422, 0.17492483],\n",
       "       [0.22119312, 0.49815996],\n",
       "       [0.04481118, 0.78753559],\n",
       "       [0.29684001, 0.8257026 ],\n",
       "       [0.24972574, 0.77094966],\n",
       "       [0.33035324, 0.80258617]])"
      ]
     },
     "execution_count": 9,
     "metadata": {},
     "output_type": "execute_result"
    }
   ],
   "source": [
    "#last 50 points are at(2,2)\n",
    "X[50:, :] = X[50:, :] + 2*np.ones((50, D))\n",
    "X[50:, :]"
   ]
  },
  {
   "cell_type": "code",
   "execution_count": 10,
   "metadata": {},
   "outputs": [
    {
     "data": {
      "text/plain": [
       "array([0, 0, 0, 0, 0, 0, 0, 0, 0, 0, 0, 0, 0, 0, 0, 0, 0, 0, 0, 0, 0, 0,\n",
       "       0, 0, 0, 0, 0, 0, 0, 0, 0, 0, 0, 0, 0, 0, 0, 0, 0, 0, 0, 0, 0, 0,\n",
       "       0, 0, 0, 0, 0, 0, 1, 1, 1, 1, 1, 1, 1, 1, 1, 1, 1, 1, 1, 1, 1, 1,\n",
       "       1, 1, 1, 1, 1, 1, 1, 1, 1, 1, 1, 1, 1, 1, 1, 1, 1, 1, 1, 1, 1, 1,\n",
       "       1, 1, 1, 1, 1, 1, 1, 1, 1, 1, 1, 1])"
      ]
     },
     "execution_count": 10,
     "metadata": {},
     "output_type": "execute_result"
    }
   ],
   "source": [
    "#label the first 50 are 0's and last 50 are 1's\n",
    "T = np.array([0]*50 + [1]*50)\n",
    "T"
   ]
  },
  {
   "cell_type": "code",
   "execution_count": 12,
   "metadata": {},
   "outputs": [
    {
     "data": {
      "text/plain": [
       "array([[1.],\n",
       "       [1.],\n",
       "       [1.],\n",
       "       [1.],\n",
       "       [1.],\n",
       "       [1.],\n",
       "       [1.],\n",
       "       [1.],\n",
       "       [1.],\n",
       "       [1.],\n",
       "       [1.],\n",
       "       [1.],\n",
       "       [1.],\n",
       "       [1.],\n",
       "       [1.],\n",
       "       [1.],\n",
       "       [1.],\n",
       "       [1.],\n",
       "       [1.],\n",
       "       [1.],\n",
       "       [1.],\n",
       "       [1.],\n",
       "       [1.],\n",
       "       [1.],\n",
       "       [1.],\n",
       "       [1.],\n",
       "       [1.],\n",
       "       [1.],\n",
       "       [1.],\n",
       "       [1.],\n",
       "       [1.],\n",
       "       [1.],\n",
       "       [1.],\n",
       "       [1.],\n",
       "       [1.],\n",
       "       [1.],\n",
       "       [1.],\n",
       "       [1.],\n",
       "       [1.],\n",
       "       [1.],\n",
       "       [1.],\n",
       "       [1.],\n",
       "       [1.],\n",
       "       [1.],\n",
       "       [1.],\n",
       "       [1.],\n",
       "       [1.],\n",
       "       [1.],\n",
       "       [1.],\n",
       "       [1.],\n",
       "       [1.],\n",
       "       [1.],\n",
       "       [1.],\n",
       "       [1.],\n",
       "       [1.],\n",
       "       [1.],\n",
       "       [1.],\n",
       "       [1.],\n",
       "       [1.],\n",
       "       [1.],\n",
       "       [1.],\n",
       "       [1.],\n",
       "       [1.],\n",
       "       [1.],\n",
       "       [1.],\n",
       "       [1.],\n",
       "       [1.],\n",
       "       [1.],\n",
       "       [1.],\n",
       "       [1.],\n",
       "       [1.],\n",
       "       [1.],\n",
       "       [1.],\n",
       "       [1.],\n",
       "       [1.],\n",
       "       [1.],\n",
       "       [1.],\n",
       "       [1.],\n",
       "       [1.],\n",
       "       [1.],\n",
       "       [1.],\n",
       "       [1.],\n",
       "       [1.],\n",
       "       [1.],\n",
       "       [1.],\n",
       "       [1.],\n",
       "       [1.],\n",
       "       [1.],\n",
       "       [1.],\n",
       "       [1.],\n",
       "       [1.],\n",
       "       [1.],\n",
       "       [1.],\n",
       "       [1.],\n",
       "       [1.],\n",
       "       [1.],\n",
       "       [1.],\n",
       "       [1.],\n",
       "       [1.],\n",
       "       [1.]])"
      ]
     },
     "execution_count": 12,
     "metadata": {},
     "output_type": "execute_result"
    }
   ],
   "source": [
    "#add a column of ones\n",
    "#create a bias term\n",
    "ones = np.ones((N, 1))\n",
    "ones"
   ]
  },
  {
   "cell_type": "code",
   "execution_count": 13,
   "metadata": {},
   "outputs": [
    {
     "data": {
      "text/plain": [
       "array([[ 1.        , -1.06674957, -1.55315892],\n",
       "       [ 1.        , -1.49968807, -1.86115105],\n",
       "       [ 1.        , -1.03621642, -1.640034  ],\n",
       "       [ 1.        , -1.48356433, -1.50733516],\n",
       "       [ 1.        , -1.62233626, -1.59382992],\n",
       "       [ 1.        , -1.68291147, -1.83938708],\n",
       "       [ 1.        , -1.67331637, -1.86463907],\n",
       "       [ 1.        , -1.82099635, -1.35332776],\n",
       "       [ 1.        , -1.35683512, -1.47418697],\n",
       "       [ 1.        , -1.01050982, -1.34485863],\n",
       "       [ 1.        , -1.96366376, -1.50656442],\n",
       "       [ 1.        , -1.40308722, -1.94360747],\n",
       "       [ 1.        , -1.21670076, -1.24538671],\n",
       "       [ 1.        , -1.35081884, -1.43691943],\n",
       "       [ 1.        , -1.19516382, -1.41884156],\n",
       "       [ 1.        , -1.88133791, -1.15604034],\n",
       "       [ 1.        , -1.14884098, -1.52374903],\n",
       "       [ 1.        , -1.11688275, -1.52083546],\n",
       "       [ 1.        , -1.81152807, -1.17927203],\n",
       "       [ 1.        , -1.98431282, -1.79218273],\n",
       "       [ 1.        , -1.73582098, -1.65604196],\n",
       "       [ 1.        , -1.26962277, -1.47576861],\n",
       "       [ 1.        , -1.16822559, -1.83745131],\n",
       "       [ 1.        , -1.99726172, -1.61529567],\n",
       "       [ 1.        , -1.44486847, -1.00789116],\n",
       "       [ 1.        , -1.06374822, -1.0148965 ],\n",
       "       [ 1.        , -1.94861836, -1.11673225],\n",
       "       [ 1.        , -1.75234294, -1.99677064],\n",
       "       [ 1.        , -1.13116473, -1.85662779],\n",
       "       [ 1.        , -1.57778796, -1.40385732],\n",
       "       [ 1.        , -1.45790679, -1.30425281],\n",
       "       [ 1.        , -1.86550946, -1.41770087],\n",
       "       [ 1.        , -1.87627286, -1.72440122],\n",
       "       [ 1.        , -1.83643892, -1.48132333],\n",
       "       [ 1.        , -1.73505247, -1.48516802],\n",
       "       [ 1.        , -1.45376362, -1.51600337],\n",
       "       [ 1.        , -1.38229852, -1.80770522],\n",
       "       [ 1.        , -1.69037915, -1.38175275],\n",
       "       [ 1.        , -1.96673081, -1.6967764 ],\n",
       "       [ 1.        , -1.64942205, -1.7953598 ],\n",
       "       [ 1.        , -1.19481257, -1.79733593],\n",
       "       [ 1.        , -1.03860979, -1.2419264 ],\n",
       "       [ 1.        , -1.44524066, -1.97749321],\n",
       "       [ 1.        , -1.16475725, -1.08250854],\n",
       "       [ 1.        , -1.58442629, -1.08628584],\n",
       "       [ 1.        , -1.50092189, -1.83762947],\n",
       "       [ 1.        , -1.21824727, -1.5547349 ],\n",
       "       [ 1.        , -1.80092593, -1.95271986],\n",
       "       [ 1.        , -1.03259377, -1.47665789],\n",
       "       [ 1.        , -1.09377619, -1.45562263],\n",
       "       [ 1.        ,  0.37307447,  0.53551623],\n",
       "       [ 1.        ,  0.21993358,  0.10227221],\n",
       "       [ 1.        ,  0.237905  ,  0.4541178 ],\n",
       "       [ 1.        ,  0.24868509,  0.16613813],\n",
       "       [ 1.        ,  0.46619508,  0.26704856],\n",
       "       [ 1.        ,  0.02394244,  0.31220716],\n",
       "       [ 1.        ,  0.73427324,  0.51217139],\n",
       "       [ 1.        ,  0.78649739,  0.46132267],\n",
       "       [ 1.        ,  0.46608646,  0.33990404],\n",
       "       [ 1.        ,  0.76718365,  0.18031584],\n",
       "       [ 1.        ,  0.82804672,  0.91084019],\n",
       "       [ 1.        ,  0.41393043,  0.99373524],\n",
       "       [ 1.        ,  0.2925712 ,  0.1412828 ],\n",
       "       [ 1.        ,  0.01244515,  0.38917969],\n",
       "       [ 1.        ,  0.48183237,  0.24697534],\n",
       "       [ 1.        ,  0.34225303,  0.90206462],\n",
       "       [ 1.        ,  0.84440513,  0.19790691],\n",
       "       [ 1.        ,  0.19864531,  0.11969763],\n",
       "       [ 1.        ,  0.25253391,  0.86041624],\n",
       "       [ 1.        ,  0.86341466,  0.66495178],\n",
       "       [ 1.        ,  0.30893578,  0.3684812 ],\n",
       "       [ 1.        ,  0.08790611,  0.56512386],\n",
       "       [ 1.        ,  0.72256386,  0.32313246],\n",
       "       [ 1.        ,  0.35502054,  0.28762425],\n",
       "       [ 1.        ,  0.39470538,  0.22118655],\n",
       "       [ 1.        ,  0.04628346,  0.65557881],\n",
       "       [ 1.        ,  0.42015623,  0.55082918],\n",
       "       [ 1.        ,  0.24000807,  0.65055092],\n",
       "       [ 1.        ,  0.47184068,  0.71536943],\n",
       "       [ 1.        ,  0.46795512,  0.24592206],\n",
       "       [ 1.        ,  0.33984795,  0.94167506],\n",
       "       [ 1.        ,  0.87210545,  0.53577316],\n",
       "       [ 1.        ,  0.1461141 ,  0.55288421],\n",
       "       [ 1.        ,  0.47891191,  0.78885481],\n",
       "       [ 1.        ,  0.47125182,  0.17801005],\n",
       "       [ 1.        ,  0.92030424,  0.08327211],\n",
       "       [ 1.        ,  0.47493056,  0.3515401 ],\n",
       "       [ 1.        ,  0.60047166,  0.94254467],\n",
       "       [ 1.        ,  0.55274632,  0.19448245],\n",
       "       [ 1.        ,  0.50233952,  0.53200983],\n",
       "       [ 1.        ,  0.41232343,  0.88620546],\n",
       "       [ 1.        ,  0.28830281,  0.41450079],\n",
       "       [ 1.        ,  0.50827327,  0.82149149],\n",
       "       [ 1.        ,  0.25460656,  0.47900265],\n",
       "       [ 1.        ,  0.61499422,  0.17492483],\n",
       "       [ 1.        ,  0.22119312,  0.49815996],\n",
       "       [ 1.        ,  0.04481118,  0.78753559],\n",
       "       [ 1.        ,  0.29684001,  0.8257026 ],\n",
       "       [ 1.        ,  0.24972574,  0.77094966],\n",
       "       [ 1.        ,  0.33035324,  0.80258617]])"
      ]
     },
     "execution_count": 13,
     "metadata": {},
     "output_type": "execute_result"
    }
   ],
   "source": [
    "#concatenate ones and X columns\n",
    "Xb = np.concatenate((ones, X), axis = 1)\n",
    "Xb"
   ]
  },
  {
   "cell_type": "code",
   "execution_count": 14,
   "metadata": {},
   "outputs": [
    {
     "data": {
      "text/plain": [
       "array([0.54587221, 0.96491255, 0.99320613])"
      ]
     },
     "execution_count": 14,
     "metadata": {},
     "output_type": "execute_result"
    }
   ],
   "source": [
    "#we have to calculate the weights\n",
    "#randomly initilize the weights\n",
    "w = np.random.rand(D + 1)\n",
    "w"
   ]
  },
  {
   "cell_type": "code",
   "execution_count": 15,
   "metadata": {},
   "outputs": [
    {
     "data": {
      "text/plain": [
       "array([-2.02605481, -2.74970227, -2.08287784, -2.38273215, -2.60254206,\n",
       "       -2.90488072, -2.92070272, -2.55536346, -2.22752657, -1.76490325,\n",
       "       -2.84522062, -2.73838711, -1.86506335, -2.18470704, -2.0165585 ,\n",
       "       -2.41764071, -2.07605576, -2.04232508, -2.37335418, -3.14882301,\n",
       "       -2.77383428, -2.14494517, -2.40633124, -2.98563226, -1.84934319,\n",
       "       -1.48855323, -2.44351942, -3.12819033, -2.38961695, -2.37087489,\n",
       "       -2.15627224, -2.66225048, -2.97725289, -2.69739017, -2.60337968,\n",
       "       -2.3625864 , -2.58334889, -2.45756116, -3.03709976, -2.82883819,\n",
       "       -2.39214251, -1.68978433, -2.81271703, -1.6531708 , -2.06186636,\n",
       "       -2.72753102, -2.17380211, -3.13131717, -1.91711616, -1.95525949,\n",
       "        1.43773445,  0.85966626,  1.22646231,  0.95084098,  1.26094396,\n",
       "        0.87906063,  1.76307344,  1.76296191,  1.33319966,  1.46522813,\n",
       "        2.24951694,  1.93226281,  0.96850077,  0.94441635,  1.25609573,\n",
       "        1.77205256,  1.55721167,  0.85643197,  1.64411604,  2.03942602,\n",
       "        1.209946  ,  1.19197839,  1.56402028,  1.17410615,  1.14641222,\n",
       "        1.24165659,  1.49837314,  1.42359017,  1.7116665 ,  1.24165928,\n",
       "        1.8090732 ,  1.91951088,  1.23598752,  1.79147576,  1.17738967,\n",
       "        1.51659168,  1.35329044,  2.061416  ,  1.27238523,  1.55898134,\n",
       "        1.82391295,  1.23574393,  1.85222184,  1.26729364,  1.31302426,\n",
       "        1.25407975,  1.37129625,  1.65238974,  1.55254764,  1.6617677 ])"
      ]
     },
     "execution_count": 15,
     "metadata": {},
     "output_type": "execute_result"
    }
   ],
   "source": [
    "#calculate the prediction output\n",
    "z = np.dot(Xb,w)\n",
    "z"
   ]
  },
  {
   "cell_type": "code",
   "execution_count": 16,
   "metadata": {},
   "outputs": [],
   "source": [
    "#calculate the sigmoid\n",
    "def sigmoid(z):\n",
    "    return 1/(1 + np.exp(-z))"
   ]
  },
  {
   "cell_type": "code",
   "execution_count": 18,
   "metadata": {},
   "outputs": [
    {
     "data": {
      "image/png": "[encoded data removed]",
      "text/plain": [
       "<Figure size 432x288 with 1 Axes>"
      ]
     },
     "metadata": {
      "needs_background": "light"
     },
     "output_type": "display_data"
    }
   ],
   "source": [
    "#get the closed form solution\n",
    "w = np.array([0, 4, 4])\n",
    "\n",
    "# y = -x\n",
    "\n",
    "#lets plot our scatter plots\n",
    "plt.scatter(X[:,0], X[:, 1], c=T, s=100, alpha=0.5)\n",
    "\n",
    "#now lets draw a line\n",
    "x_axis = np.linspace(-6, 6, 100)\n",
    "y_axis = -x_axis\n",
    "plt.plot(x_axis, y_axis)\n",
    "plt.show()"
   ]
  }
 ],
 "metadata": {
  "kernelspec": {
   "display_name": "Python 3",
   "language": "python",
   "name": "python3"
  },
  "language_info": {
   "codemirror_mode": {
    "name": "ipython",
    "version": 3
   },
   "file_extension": ".py",
   "mimetype": "text/x-python",
   "name": "python",
   "nbconvert_exporter": "python",
   "pygments_lexer": "ipython3",
   "version": "3.7.4"
  }
 },
 "nbformat": 4,
 "nbformat_minor": 2
}
