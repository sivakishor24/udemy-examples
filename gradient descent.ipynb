{
 "cells": [
  {
   "cell_type": "code",
   "execution_count": 1,
   "metadata": {},
   "outputs": [],
   "source": [
    "import numpy as np\n",
    "import matplotlib.pyplot as plt"
   ]
  },
  {
   "cell_type": "code",
   "execution_count": 2,
   "metadata": {},
   "outputs": [],
   "source": [
    "N = 10\n",
    "D = 3\n",
    "X = np.zeros((N, D))\n",
    "X[:,0] = 1 # bias term\n",
    "X[:5,1] = 1\n",
    "X[5:,2] = 1\n",
    "Y = np.array([0]*5 + [1]*5)"
   ]
  },
  {
   "cell_type": "code",
   "execution_count": 3,
   "metadata": {},
   "outputs": [
    {
     "name": "stdout",
     "output_type": "stream",
     "text": [
      "X: [[1. 1. 0.]\n",
      " [1. 1. 0.]\n",
      " [1. 1. 0.]\n",
      " [1. 1. 0.]\n",
      " [1. 1. 0.]\n",
      " [1. 0. 1.]\n",
      " [1. 0. 1.]\n",
      " [1. 0. 1.]\n",
      " [1. 0. 1.]\n",
      " [1. 0. 1.]]\n"
     ]
    }
   ],
   "source": [
    "# print X so you know what it looks like\n",
    "print(\"X:\", X)"
   ]
  },
  {
   "cell_type": "code",
   "execution_count": 5,
   "metadata": {},
   "outputs": [],
   "source": [
    "# won't work!\n",
    "# w = np.linalg.solve(X.T.dot(X), X.T.dot(Y))"
   ]
  },
  {
   "cell_type": "code",
   "execution_count": 6,
   "metadata": {},
   "outputs": [],
   "source": [
    "# let's try gradient descent\n",
    "costs = [] # keep track of squared error cost\n",
    "w = np.random.randn(D) / np.sqrt(D) # randomly initialize w\n",
    "learning_rate = 0.001\n",
    "for t in range(1000):\n",
    "  # update w\n",
    "  Yhat = X.dot(w)\n",
    "  delta = Yhat - Y\n",
    "  w = w - learning_rate*X.T.dot(delta)"
   ]
  },
  {
   "cell_type": "code",
   "execution_count": 8,
   "metadata": {},
   "outputs": [],
   "source": [
    "# find and store the cost\n",
    "mse = delta.dot(delta) / N\n",
    "costs.append(mse)\n"
   ]
  },
  {
   "cell_type": "code",
   "execution_count": 9,
   "metadata": {},
   "outputs": [
    {
     "data": {
      "image/png": "[encoded data removed]",
      "text/plain": [
       "<Figure size 432x288 with 1 Axes>"
      ]
     },
     "metadata": {
      "needs_background": "light"
     },
     "output_type": "display_data"
    }
   ],
   "source": [
    "# plot the costs\n",
    "plt.plot(costs)\n",
    "plt.show()\n"
   ]
  },
  {
   "cell_type": "code",
   "execution_count": 10,
   "metadata": {},
   "outputs": [
    {
     "name": "stdout",
     "output_type": "stream",
     "text": [
      "final w: [ 0.24579772 -0.24250259  0.75090637]\n"
     ]
    }
   ],
   "source": [
    "print(\"final w:\", w)"
   ]
  },
  {
   "cell_type": "code",
   "execution_count": 11,
   "metadata": {},
   "outputs": [
    {
     "data": {
      "image/png": "[encoded data removed]",
      "text/plain": [
       "<Figure size 432x288 with 1 Axes>"
      ]
     },
     "metadata": {
      "needs_background": "light"
     },
     "output_type": "display_data"
    }
   ],
   "source": [
    "# plot prediction vs target\n",
    "plt.plot(Yhat, label='prediction')\n",
    "plt.plot(Y, label='target')\n",
    "plt.legend()\n",
    "plt.show()"
   ]
  },
  {
   "cell_type": "code",
   "execution_count": null,
   "metadata": {},
   "outputs": [],
   "source": []
  }
 ],
 "metadata": {
  "kernelspec": {
   "display_name": "Python 3",
   "language": "python",
   "name": "python3"
  },
  "language_info": {
   "codemirror_mode": {
    "name": "ipython",
    "version": 3
   },
   "file_extension": ".py",
   "mimetype": "text/x-python",
   "name": "python",
   "nbconvert_exporter": "python",
   "pygments_lexer": "ipython3",
   "version": "3.7.4"
  }
 },
 "nbformat": 4,
 "nbformat_minor": 2
}
