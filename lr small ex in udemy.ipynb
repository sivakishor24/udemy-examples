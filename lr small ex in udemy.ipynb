{
 "cells": [
  {
   "cell_type": "code",
   "execution_count": 1,
   "metadata": {},
   "outputs": [],
   "source": [
    "#import the libraries\n",
    "import numpy as np\n",
    "import pandas as pd\n",
    "import matplotlib.pyplot as plt"
   ]
  },
  {
   "cell_type": "code",
   "execution_count": 2,
   "metadata": {},
   "outputs": [
    {
     "data": {
      "text/html": [
       "<div>\n",
       "<style scoped>\n",
       "    .dataframe tbody tr th:only-of-type {\n",
       "        vertical-align: middle;\n",
       "    }\n",
       "\n",
       "    .dataframe tbody tr th {\n",
       "        vertical-align: top;\n",
       "    }\n",
       "\n",
       "    .dataframe thead th {\n",
       "        text-align: right;\n",
       "    }\n",
       "</style>\n",
       "<table border=\"1\" class=\"dataframe\">\n",
       "  <thead>\n",
       "    <tr style=\"text-align: right;\">\n",
       "      <th></th>\n",
       "      <th>data</th>\n",
       "      <th>result</th>\n",
       "    </tr>\n",
       "  </thead>\n",
       "  <tbody>\n",
       "    <tr>\n",
       "      <td>0</td>\n",
       "      <td>95.724162</td>\n",
       "      <td>197.179636</td>\n",
       "    </tr>\n",
       "    <tr>\n",
       "      <td>1</td>\n",
       "      <td>35.757619</td>\n",
       "      <td>67.590670</td>\n",
       "    </tr>\n",
       "    <tr>\n",
       "      <td>2</td>\n",
       "      <td>28.816847</td>\n",
       "      <td>60.854133</td>\n",
       "    </tr>\n",
       "    <tr>\n",
       "      <td>3</td>\n",
       "      <td>99.958481</td>\n",
       "      <td>196.907397</td>\n",
       "    </tr>\n",
       "    <tr>\n",
       "      <td>4</td>\n",
       "      <td>66.809748</td>\n",
       "      <td>125.311128</td>\n",
       "    </tr>\n",
       "  </tbody>\n",
       "</table>\n",
       "</div>"
      ],
      "text/plain": [
       "        data      result\n",
       "0  95.724162  197.179636\n",
       "1  35.757619   67.590670\n",
       "2  28.816847   60.854133\n",
       "3  99.958481  196.907397\n",
       "4  66.809748  125.311128"
      ]
     },
     "execution_count": 2,
     "metadata": {},
     "output_type": "execute_result"
    }
   ],
   "source": [
    "labels=['data','result']\n",
    "df=pd.read_csv(\"C:/Users/Dell/Desktop/datasets/data_1d.csv\",names=labels)\n",
    "df.head()"
   ]
  },
  {
   "cell_type": "code",
   "execution_count": 3,
   "metadata": {},
   "outputs": [],
   "source": [
    "X=df.data\n",
    "Y=df.result"
   ]
  },
  {
   "cell_type": "code",
   "execution_count": 4,
   "metadata": {},
   "outputs": [
    {
     "name": "stdout",
     "output_type": "stream",
     "text": [
      "(100,)\n",
      "(100,)\n"
     ]
    }
   ],
   "source": [
    "print(X.shape)\n",
    "print(Y.shape)"
   ]
  },
  {
   "cell_type": "code",
   "execution_count": 5,
   "metadata": {},
   "outputs": [],
   "source": [
    "X=np.array(X)\n",
    "Y=np.array(Y)"
   ]
  },
  {
   "cell_type": "code",
   "execution_count": 6,
   "metadata": {},
   "outputs": [
    {
     "data": {
      "image/png": "[encoded data removed]",
      "text/plain": [
       "<Figure size 432x288 with 1 Axes>"
      ]
     },
     "metadata": {
      "needs_background": "light"
     },
     "output_type": "display_data"
    }
   ],
   "source": [
    "#plot the graph\n",
    "plt.scatter(X, Y)\n",
    "plt.show()"
   ]
  },
  {
   "cell_type": "code",
   "execution_count": 7,
   "metadata": {},
   "outputs": [
    {
     "data": {
      "text/plain": [
       "352941.7940503283"
      ]
     },
     "execution_count": 7,
     "metadata": {},
     "output_type": "execute_result"
    }
   ],
   "source": [
    "X.dot(X)"
   ]
  },
  {
   "cell_type": "code",
   "execution_count": 8,
   "metadata": {},
   "outputs": [
    {
     "data": {
      "text/plain": [
       "53.03760942298"
      ]
     },
     "execution_count": 8,
     "metadata": {},
     "output_type": "execute_result"
    }
   ],
   "source": [
    "X.mean()"
   ]
  },
  {
   "cell_type": "code",
   "execution_count": 9,
   "metadata": {},
   "outputs": [
    {
     "data": {
      "text/plain": [
       "5303.7609422979995"
      ]
     },
     "execution_count": 9,
     "metadata": {},
     "output_type": "execute_result"
    }
   ],
   "source": [
    "X.sum()"
   ]
  },
  {
   "cell_type": "code",
   "execution_count": 11,
   "metadata": {},
   "outputs": [],
   "source": [
    "#apply the equation we learned to calculate a and b\n",
    "denominator=X.dot(X)-X.mean()*X.sum()\n",
    "a=(X.dot(Y)-Y.mean()*X.sum())/denominator\n",
    "b=(Y.mean() *X.dot(X)-X.mean()*X.dot(Y))/denominator"
   ]
  },
  {
   "cell_type": "code",
   "execution_count": 12,
   "metadata": {},
   "outputs": [
    {
     "name": "stdout",
     "output_type": "stream",
     "text": [
      "[191.69107156  73.40033826  59.70888793 200.04374055 134.6541465\n",
      " 117.70140771 109.03253413 163.23006493 161.95302518 157.2268765\n",
      "  36.12953719 181.97592734 108.02977778 144.14051871  39.18138143\n",
      " 115.54860555 162.91168878 164.64871483  75.70294737  90.81753141\n",
      "  55.4589089  148.96605693  37.85970159  16.31713371  54.77836881\n",
      " 166.20483683  80.67714285 154.21924834  86.13993556 188.99729888\n",
      "  85.99382218   9.19897215  16.44718721  30.23594107 127.72565266\n",
      " 122.1927038  159.89872354 167.46778995 111.14518947 125.25700849\n",
      " 134.34643799 123.82463362  96.20755006 162.94384961 182.41456944\n",
      "  36.09004218 153.78195174 144.62758755  22.29088522  73.46364625\n",
      "  73.65889459 182.03569976  17.18967732  72.61458615 158.85712223\n",
      "  45.38103823 159.64059254  99.06470845 110.95146298 175.47494321\n",
      "  79.69595275  21.39832425  24.80221252  93.87198765 171.91250044\n",
      " 101.71260447  24.70847381  46.71190545 136.12217727  28.0885821\n",
      "  95.50912276  12.42871436  82.82885828  54.80421235  79.5689084\n",
      " 187.9709304  121.38223757 101.71984163  37.81651825 170.68052042\n",
      "  84.37573695  72.79657722 148.8791997  181.42472731  70.99962607\n",
      " 189.39790937 107.32660238 160.88335523 101.14540189 124.73580715\n",
      " 121.78553495 155.38815834  33.72862172 143.98631828 126.05878447\n",
      " 158.81881136 145.28247262 143.74395344  64.03279987  82.41056644]\n"
     ]
    },
    {
     "data": {
      "image/png": "[encoded data removed]",
      "text/plain": [
       "<Figure size 432x288 with 1 Axes>"
      ]
     },
     "metadata": {
      "needs_background": "light"
     },
     "output_type": "display_data"
    }
   ],
   "source": [
    "#calculated predicted Y\n",
    "Yhat=a*X +b\n",
    "print(Yhat)\n",
    "\n",
    "#plot it all\n",
    "plt.scatter(X, Y)\n",
    "plt.plot(X, Yhat)\n",
    "plt.show()"
   ]
  },
  {
   "cell_type": "code",
   "execution_count": 13,
   "metadata": {},
   "outputs": [
    {
     "name": "stdout",
     "output_type": "stream",
     "text": [
      "   Actul data  Predicted data\n",
      "0  197.179636      191.691072\n",
      "1   67.590670       73.400338\n",
      "2   60.854133       59.708888\n",
      "3  196.907397      200.043741\n",
      "4  125.311128      134.654146\n",
      "5  115.785785      117.701408\n",
      "6  110.762773      109.032534\n",
      "7  157.985286      163.230065\n",
      "8  159.619414      161.953025\n",
      "9  149.003865      157.226876\n"
     ]
    }
   ],
   "source": [
    "total=pd.DataFrame({'Actul data':Y, 'Predicted data':Yhat})\n",
    "print(total.head(10))"
   ]
  },
  {
   "cell_type": "code",
   "execution_count": 15,
   "metadata": {},
   "outputs": [
    {
     "name": "stdout",
     "output_type": "stream",
     "text": [
      "[ 5.48856454  5.80966872  1.14524489  3.13634355  9.343018    1.91562311\n",
      "  1.73023857  5.24477923  2.33361148  8.223011    4.66194631  2.20929236\n",
      "  4.80916758  0.86870031  7.55503658  8.42481135  5.39768522  2.18122787\n",
      "  5.20149178  6.05183884  5.08567306  3.44688623  8.69217302  3.0733474\n",
      "  7.72229769  6.28818723  2.6929387   6.95006524  2.49464016  2.95877382\n",
      "  5.73891198  0.94755538  0.35079779  3.11850107  3.78009284  6.5061393\n",
      "  0.41165696  6.86454425  6.74489627  1.71244751  9.82727039  1.39278078\n",
      "  2.51193432  3.48860589  3.17769684  2.31280844  7.59101336  6.05218655\n",
      "  4.38755694  0.64494546  1.16242838  2.79415276 10.75530494  5.47177064\n",
      "  4.26533243  4.64971567  5.80137366 11.83257955  3.74042212 11.26926309\n",
      "  8.99872977  2.2192942   2.2207474   6.57953843  3.98788634  5.69205603\n",
      "  0.23785084  7.29224043  2.95692287  0.08235888  5.09646674  1.42855824\n",
      "  0.23819534  4.57240844  0.08713598  3.3533874   0.88712217  9.63248127\n",
      "  7.12108824  1.45268268  0.51349905  2.87758598  0.8994466   6.16918239\n",
      "  4.67276712  0.25294527  3.87976648  2.35392513  2.44656226  2.08841205\n",
      "  2.97781135  0.28933476  1.68198653  7.33714042  3.37517433  4.27809124\n",
      "  2.38395002  4.35025506  0.23592362  4.31311889]\n"
     ]
    }
   ],
   "source": [
    "error = abs(Yhat-Y)\n",
    "print(error)"
   ]
  },
  {
   "cell_type": "code",
   "execution_count": 23,
   "metadata": {},
   "outputs": [
    {
     "name": "stdout",
     "output_type": "stream",
     "text": [
      "the r-squared is: 0.9911838202948865\n"
     ]
    }
   ],
   "source": [
    "#calculating r-squared\n",
    "#formula for r2 is r2=1-sum of squares or residual/su of squares of total\n",
    "#ssres=(yi-^yi)2\n",
    "#sstot=(yi-Y.mean)2\n",
    "d1=Y-Yhat\n",
    "d2=Y-Y.mean()\n",
    "r2=1-d1.dot(d1)/d2.dot(d2)\n",
    "print(\"the r-squared is:\",r2)"
   ]
  },
  {
   "cell_type": "code",
   "execution_count": 16,
   "metadata": {},
   "outputs": [
    {
     "name": "stdout",
     "output_type": "stream",
     "text": [
      "r2_score: 0.9911838202948865\n"
     ]
    }
   ],
   "source": [
    "#another model to find the r2 score\n",
    "from sklearn.metrics import r2_score\n",
    "print(\"r2_score:\",r2_score(Y, Yhat))"
   ]
  }
 ],
 "metadata": {
  "kernelspec": {
   "display_name": "Python 3",
   "language": "python",
   "name": "python3"
  },
  "language_info": {
   "codemirror_mode": {
    "name": "ipython",
    "version": 3
   },
   "file_extension": ".py",
   "mimetype": "text/x-python",
   "name": "python",
   "nbconvert_exporter": "python",
   "pygments_lexer": "ipython3",
   "version": "3.7.4"
  }
 },
 "nbformat": 4,
 "nbformat_minor": 2
}
