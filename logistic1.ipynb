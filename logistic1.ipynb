{
 "cells": [
  {
   "cell_type": "code",
   "execution_count": 5,
   "metadata": {},
   "outputs": [],
   "source": [
    "import numpy as np\n",
    "import matplotlib.pyplot as plt\n"
   ]
  },
  {
   "cell_type": "code",
   "execution_count": 6,
   "metadata": {},
   "outputs": [],
   "source": [
    "N=100\n",
    "D=2"
   ]
  },
  {
   "cell_type": "code",
   "execution_count": 7,
   "metadata": {},
   "outputs": [],
   "source": [
    "X=np.random.rand(N,D)\n",
    "ones=np.array([[1]*N]).T\n",
    "Xb=np.concatenate((ones,X),axis=1)\n",
    "\n",
    "w=np.random.rand(D+1)\n",
    "\n",
    "z=Xb.dot(w)\n"
   ]
  },
  {
   "cell_type": "code",
   "execution_count": 8,
   "metadata": {},
   "outputs": [],
   "source": [
    "def sigmoid(z):\n",
    "    return 1/(1+np.exp(-z))\n"
   ]
  },
  {
   "cell_type": "code",
   "execution_count": 10,
   "metadata": {},
   "outputs": [
    {
     "name": "stdout",
     "output_type": "stream",
     "text": [
      "[0.70121191 0.68132456 0.66939383 0.72766187 0.6684729  0.71119369\n",
      " 0.72523624 0.61147568 0.69898912 0.64567116 0.70842306 0.74787823\n",
      " 0.7145812  0.65705211 0.66481355 0.73151204 0.67498631 0.66540198\n",
      " 0.60669357 0.70610433 0.72829799 0.70083191 0.73513807 0.64278293\n",
      " 0.67396368 0.70531276 0.66928789 0.69991288 0.65894282 0.77179491\n",
      " 0.62610201 0.66783964 0.70404129 0.65409546 0.65440463 0.64261021\n",
      " 0.63253575 0.70775627 0.67975268 0.72388311 0.7039592  0.67942925\n",
      " 0.68890962 0.68869521 0.72723823 0.71904598 0.72418273 0.66446247\n",
      " 0.672132   0.69604503 0.70848457 0.64856913 0.74557056 0.7272183\n",
      " 0.71522674 0.76285066 0.61108135 0.65447242 0.76251569 0.7883338\n",
      " 0.75847813 0.70441443 0.67650733 0.65227389 0.63721781 0.71531317\n",
      " 0.63963995 0.70598824 0.64150974 0.69719296 0.73920745 0.67308466\n",
      " 0.73615775 0.63722044 0.63979754 0.71546322 0.70317881 0.71163985\n",
      " 0.761362   0.72480154 0.67512689 0.77686055 0.61528125 0.74530621\n",
      " 0.6644347  0.65427293 0.75201043 0.70457604 0.60436784 0.69905205\n",
      " 0.70744508 0.70359629 0.74433753 0.6306706  0.63158566 0.70687008\n",
      " 0.75855996 0.68916721 0.69520078 0.65661468]\n"
     ]
    }
   ],
   "source": [
    "print(sigmoid(z))"
   ]
  },
  {
   "cell_type": "code",
   "execution_count": null,
   "metadata": {},
   "outputs": [],
   "source": []
  }
 ],
 "metadata": {
  "kernelspec": {
   "display_name": "Python 3",
   "language": "python",
   "name": "python3"
  },
  "language_info": {
   "codemirror_mode": {
    "name": "ipython",
    "version": 3
   },
   "file_extension": ".py",
   "mimetype": "text/x-python",
   "name": "python",
   "nbconvert_exporter": "python",
   "pygments_lexer": "ipython3",
   "version": "3.7.4"
  }
 },
 "nbformat": 4,
 "nbformat_minor": 2
}
